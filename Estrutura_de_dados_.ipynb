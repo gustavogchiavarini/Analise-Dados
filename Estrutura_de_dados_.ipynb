{
  "nbformat": 4,
  "nbformat_minor": 0,
  "metadata": {
    "colab": {
      "provenance": [],
      "mount_file_id": "1Pvk_uVHd_LhmFKg_3CQ1kiD-iks4kd0O",
      "authorship_tag": "ABX9TyNRHYVeeS5XbGwYtPJ3PNN4",
      "include_colab_link": true
    },
    "kernelspec": {
      "name": "python3",
      "display_name": "Python 3"
    },
    "language_info": {
      "name": "python"
    }
  },
  "cells": [
    {
      "cell_type": "markdown",
      "metadata": {
        "id": "view-in-github",
        "colab_type": "text"
      },
      "source": [
        "<a href=\"https://colab.research.google.com/github/gustavogchiavarini/Analise-Dados/blob/main/Estrutura_de_dados_.ipynb\" target=\"_parent\"><img src=\"https://colab.research.google.com/assets/colab-badge.svg\" alt=\"Open In Colab\"/></a>"
      ]
    },
    {
      "cell_type": "markdown",
      "source": [
        "# **Listas**"
      ],
      "metadata": {
        "id": "TjdpG8GXrjXF"
      }
    },
    {
      "cell_type": "code",
      "source": [
        "lista = [\"lapis\", \"caneta\", \"caderno\", \"teclado\", \"computador\", \"mouse\", \"agenda\", \"post-it\", \"borracha\", \"fone\", \"abajur\"]\n",
        "lista\n"
      ],
      "metadata": {
        "id": "kJLuPAA7rlyX",
        "colab": {
          "base_uri": "https://localhost:8080/"
        },
        "outputId": "9e435d68-a4b3-4bd5-c68b-bc45eae4f4dd"
      },
      "execution_count": 54,
      "outputs": [
        {
          "output_type": "execute_result",
          "data": {
            "text/plain": [
              "['lapis',\n",
              " 'caneta',\n",
              " 'caderno',\n",
              " 'teclado',\n",
              " 'computador',\n",
              " 'mouse',\n",
              " 'agenda',\n",
              " 'post-it',\n",
              " 'borracha',\n",
              " 'fone',\n",
              " 'abajur']"
            ]
          },
          "metadata": {},
          "execution_count": 54
        }
      ]
    },
    {
      "cell_type": "code",
      "source": [
        "#Imprimindo o primeiro e o 3 elemento da lista\n",
        "lista[0], lista[3]\n"
      ],
      "metadata": {
        "colab": {
          "base_uri": "https://localhost:8080/"
        },
        "id": "LMsLKoG9sAwl",
        "outputId": "ce0e143f-90f6-4541-a9f8-2f254874b5ee"
      },
      "execution_count": 3,
      "outputs": [
        {
          "output_type": "execute_result",
          "data": {
            "text/plain": [
              "('lapis', 'teclado')"
            ]
          },
          "metadata": {},
          "execution_count": 3
        }
      ]
    },
    {
      "cell_type": "code",
      "source": [
        "#Substituindo o primeiro elemento da lista\n",
        "lista[0] = \"mochila\""
      ],
      "metadata": {
        "id": "Mbr3OY27sDgk"
      },
      "execution_count": 30,
      "outputs": []
    },
    {
      "cell_type": "code",
      "source": [
        "lista"
      ],
      "metadata": {
        "id": "LEIxdZ0esDq9"
      },
      "execution_count": null,
      "outputs": []
    },
    {
      "cell_type": "code",
      "source": [
        "#Removendo item da lista\n",
        "lista.remove(\"caderno\")"
      ],
      "metadata": {
        "id": "0PPIDChesDyM"
      },
      "execution_count": 55,
      "outputs": []
    },
    {
      "cell_type": "code",
      "source": [
        "#Adicionando um elemento a lista\n",
        "lista.append(\"celular\")"
      ],
      "metadata": {
        "id": "Z-KsqzNju_x9"
      },
      "execution_count": 56,
      "outputs": []
    },
    {
      "cell_type": "code",
      "source": [
        "#Adicionando mais de um elemento a lista\n",
        "lista.extend([\"carregador\",\"livro\"])"
      ],
      "metadata": {
        "id": "B0D8IxXRvWKV"
      },
      "execution_count": 57,
      "outputs": []
    },
    {
      "cell_type": "code",
      "source": [
        "lista"
      ],
      "metadata": {
        "id": "RxSveA4hs4kU",
        "colab": {
          "base_uri": "https://localhost:8080/"
        },
        "outputId": "8aefac15-1ce6-4c73-ca40-bbb5afec2a4c"
      },
      "execution_count": 9,
      "outputs": [
        {
          "output_type": "execute_result",
          "data": {
            "text/plain": [
              "['mochila',\n",
              " 'caneta',\n",
              " 'teclado',\n",
              " 'computador',\n",
              " 'mouse',\n",
              " 'agenda',\n",
              " 'post-it',\n",
              " 'borracha',\n",
              " 'fone',\n",
              " 'abajur',\n",
              " 'celular',\n",
              " 'carregador',\n",
              " 'livro']"
            ]
          },
          "metadata": {},
          "execution_count": 9
        }
      ]
    },
    {
      "cell_type": "code",
      "source": [
        "#Verificando a quantidade/tamanho de elementos\n",
        "len(lista)"
      ],
      "metadata": {
        "colab": {
          "base_uri": "https://localhost:8080/"
        },
        "id": "Me6Qy_n0s4tj",
        "outputId": "97894596-d9db-485d-91d9-078f4751e14e"
      },
      "execution_count": 34,
      "outputs": [
        {
          "output_type": "execute_result",
          "data": {
            "text/plain": [
              "16"
            ]
          },
          "metadata": {},
          "execution_count": 34
        }
      ]
    },
    {
      "cell_type": "code",
      "source": [
        "#Verificando se um elemento pertence a lista\n",
        "\"fone\" in lista"
      ],
      "metadata": {
        "id": "8O4MHrUTs5Gs",
        "colab": {
          "base_uri": "https://localhost:8080/"
        },
        "outputId": "83006388-6085-4f1e-d4f4-86ff38c885c0"
      },
      "execution_count": 35,
      "outputs": [
        {
          "output_type": "execute_result",
          "data": {
            "text/plain": [
              "True"
            ]
          },
          "metadata": {},
          "execution_count": 35
        }
      ]
    },
    {
      "cell_type": "code",
      "source": [
        "#Verificando a quantidade de elementos\n",
        "lista.count(\"cadeira\")\n",
        "lista.count(\"celular\")"
      ],
      "metadata": {
        "colab": {
          "base_uri": "https://localhost:8080/"
        },
        "id": "X76Vasgcv0fq",
        "outputId": "a8a18b8b-7cb4-4db1-de32-532b2acbd6e4"
      },
      "execution_count": 36,
      "outputs": [
        {
          "output_type": "execute_result",
          "data": {
            "text/plain": [
              "2"
            ]
          },
          "metadata": {},
          "execution_count": 36
        }
      ]
    },
    {
      "cell_type": "code",
      "source": [
        "list_numbers = [6, 721, 8, 86, 89, 18, 9, 520, 16, 345, 84]"
      ],
      "metadata": {
        "id": "H2pxDF0Oth61"
      },
      "execution_count": 37,
      "outputs": []
    },
    {
      "cell_type": "code",
      "source": [
        "#Verificando o valor máximo e o valor minímo\n",
        "max(list_numbers), min(list_numbers)"
      ],
      "metadata": {
        "id": "I2hiO55htiD0",
        "colab": {
          "base_uri": "https://localhost:8080/"
        },
        "outputId": "87f3fe89-690c-4aaf-ad48-9cf224bbe17d"
      },
      "execution_count": 38,
      "outputs": [
        {
          "output_type": "execute_result",
          "data": {
            "text/plain": [
              "(721, 6)"
            ]
          },
          "metadata": {},
          "execution_count": 38
        }
      ]
    },
    {
      "cell_type": "code",
      "source": [
        "#Ordenando os elementos\n",
        "list_numbers.sort()"
      ],
      "metadata": {
        "id": "dI-oWokTu90X"
      },
      "execution_count": 39,
      "outputs": []
    },
    {
      "cell_type": "code",
      "source": [
        "list_numbers"
      ],
      "metadata": {
        "id": "dUi586sCtiNL",
        "colab": {
          "base_uri": "https://localhost:8080/"
        },
        "outputId": "bdd4a74d-5208-4459-e96a-29162a0e51d4"
      },
      "execution_count": 40,
      "outputs": [
        {
          "output_type": "execute_result",
          "data": {
            "text/plain": [
              "[6, 8, 9, 16, 18, 84, 86, 89, 345, 520, 721]"
            ]
          },
          "metadata": {},
          "execution_count": 40
        }
      ]
    },
    {
      "cell_type": "markdown",
      "source": [
        "# **Tuplas**"
      ],
      "metadata": {
        "id": "quu2ccLNxEbF"
      }
    },
    {
      "cell_type": "code",
      "source": [
        "#Usam parênteses como sintaxe\n",
        "tp = (\"Banana\", \"Maça\", 10, 50)"
      ],
      "metadata": {
        "id": "C_HzMP7TxGi0"
      },
      "execution_count": 41,
      "outputs": []
    },
    {
      "cell_type": "code",
      "source": [
        "#retornando o primeiro elemento\n",
        "tp[1]"
      ],
      "metadata": {
        "colab": {
          "base_uri": "https://localhost:8080/",
          "height": 35
        },
        "id": "a7K8AlixxGrG",
        "outputId": "f18f68d5-9071-49cd-e21f-323d77d274d7"
      },
      "execution_count": 42,
      "outputs": [
        {
          "output_type": "execute_result",
          "data": {
            "text/plain": [
              "'Maça'"
            ],
            "application/vnd.google.colaboratory.intrinsic+json": {
              "type": "string"
            }
          },
          "metadata": {},
          "execution_count": 42
        }
      ]
    },
    {
      "cell_type": "code",
      "source": [
        "#Diferente das Listas as tuplas são imutáveis, sendo assim, não é possível alterar ou adicionar valores/elementos"
      ],
      "metadata": {
        "id": "3gsnOh_YxGuV"
      },
      "execution_count": 43,
      "outputs": []
    },
    {
      "cell_type": "code",
      "source": [
        "tp.count(\"Maça\")"
      ],
      "metadata": {
        "colab": {
          "base_uri": "https://localhost:8080/"
        },
        "id": "AJcgDr5pxGx4",
        "outputId": "a1921d14-29f0-4e01-a1d5-a6955799fa58"
      },
      "execution_count": 44,
      "outputs": [
        {
          "output_type": "execute_result",
          "data": {
            "text/plain": [
              "1"
            ]
          },
          "metadata": {},
          "execution_count": 44
        }
      ]
    },
    {
      "cell_type": "code",
      "source": [
        "tp[0:2]"
      ],
      "metadata": {
        "colab": {
          "base_uri": "https://localhost:8080/"
        },
        "id": "PQ8PYv3pxG1N",
        "outputId": "9659996e-40f1-43f7-8550-2d743682a013"
      },
      "execution_count": 45,
      "outputs": [
        {
          "output_type": "execute_result",
          "data": {
            "text/plain": [
              "('Banana', 'Maça')"
            ]
          },
          "metadata": {},
          "execution_count": 45
        }
      ]
    },
    {
      "cell_type": "markdown",
      "source": [
        "# **Dicionários**"
      ],
      "metadata": {
        "id": "oKPwwwWnyxAb"
      }
    },
    {
      "cell_type": "code",
      "source": [
        "#Para criar dicionários utilizamos {}\n",
        "#Possui chave e valor como argumentos\n",
        "dc = {\"Maça\":20, \"Banana\":10, \"Laranja\": 15, \"Uva\": 35, \"Abacaxi\" : 10}\n"
      ],
      "metadata": {
        "id": "0HyPGZEHzqdO"
      },
      "execution_count": 46,
      "outputs": []
    },
    {
      "cell_type": "code",
      "source": [
        "dc"
      ],
      "metadata": {
        "colab": {
          "base_uri": "https://localhost:8080/"
        },
        "id": "0lsIKttmzsKv",
        "outputId": "13943da7-c471-4f5f-e893-87d3bab54f8e"
      },
      "execution_count": 47,
      "outputs": [
        {
          "output_type": "execute_result",
          "data": {
            "text/plain": [
              "{'Maça': 20, 'Banana': 10, 'Laranja': 15, 'Uva': 35, 'Abacaxi': 10}"
            ]
          },
          "metadata": {},
          "execution_count": 47
        }
      ]
    },
    {
      "cell_type": "code",
      "source": [
        "#Acessando o valor de um dicionário através da chave\n",
        "dc[\"Maça\"]"
      ],
      "metadata": {
        "id": "PPRjPZnrzsSu",
        "colab": {
          "base_uri": "https://localhost:8080/"
        },
        "outputId": "9dbbcd14-fad9-4cc3-feba-ce9f827cec3a"
      },
      "execution_count": 48,
      "outputs": [
        {
          "output_type": "execute_result",
          "data": {
            "text/plain": [
              "20"
            ]
          },
          "metadata": {},
          "execution_count": 48
        }
      ]
    },
    {
      "cell_type": "code",
      "source": [
        "#Atualizando o valor da Maça\n",
        "dc[\"Maça\"] = 50"
      ],
      "metadata": {
        "id": "fOAdlxQHzseP"
      },
      "execution_count": 49,
      "outputs": []
    },
    {
      "cell_type": "code",
      "source": [
        "#Retornando as chaves do dicionário\n",
        "dc.keys()"
      ],
      "metadata": {
        "colab": {
          "base_uri": "https://localhost:8080/"
        },
        "id": "EZVwOol80C2U",
        "outputId": "6610f61e-62ef-4b82-d3de-04838be0b21b"
      },
      "execution_count": 50,
      "outputs": [
        {
          "output_type": "execute_result",
          "data": {
            "text/plain": [
              "dict_keys(['Maça', 'Banana', 'Laranja', 'Uva', 'Abacaxi'])"
            ]
          },
          "metadata": {},
          "execution_count": 50
        }
      ]
    },
    {
      "cell_type": "code",
      "source": [
        "#Retornando os valores do dicionário\n",
        "dc.values()"
      ],
      "metadata": {
        "colab": {
          "base_uri": "https://localhost:8080/"
        },
        "id": "2JIDubLT0Kuc",
        "outputId": "d76d02c8-5e90-4afa-e9dd-daade28c9164"
      },
      "execution_count": 51,
      "outputs": [
        {
          "output_type": "execute_result",
          "data": {
            "text/plain": [
              "dict_values([50, 10, 15, 35, 10])"
            ]
          },
          "metadata": {},
          "execution_count": 51
        }
      ]
    },
    {
      "cell_type": "code",
      "source": [
        "#Verificando se já existe uma chave no dicionário e caso não exista, irá inserir o valor\n",
        "dc.setdefault(\"Limão\", 22)"
      ],
      "metadata": {
        "colab": {
          "base_uri": "https://localhost:8080/"
        },
        "id": "x1iQiGD10cN-",
        "outputId": "1dcc1106-c913-4c91-cff0-d0d0b3890b9f"
      },
      "execution_count": 52,
      "outputs": [
        {
          "output_type": "execute_result",
          "data": {
            "text/plain": [
              "22"
            ]
          },
          "metadata": {},
          "execution_count": 52
        }
      ]
    }
  ]
}